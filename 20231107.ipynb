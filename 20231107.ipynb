{
  "nbformat": 4,
  "nbformat_minor": 0,
  "metadata": {
    "colab": {
      "provenance": []
    },
    "kernelspec": {
      "name": "python3",
      "display_name": "Python 3"
    },
    "language_info": {
      "name": "python"
    }
  },
  "cells": [
    {
      "cell_type": "markdown",
      "source": [
        "# 풀었던 문제\n",
        "- A. 줄 서는 방법(https://school.programmers.co.kr/learn/courses/30/lessons/12936)\n",
        "- B. 키패드 누르기(https://school.programmers.co.kr/learn/courses/30/lessons/67256)\n",
        "\t- B1. 재귀(하노이, https://school.programmers.co.kr/learn/courses/30/lessons/12946)\n",
        "\t- B2. 스택(주식가격, https://school.programmers.co.kr/learn/courses/30/lessons/42584)\n",
        "\t- B3. 큐\n"
      ],
      "metadata": {
        "id": "6-XZcEchYpWs"
      }
    },
    {
      "cell_type": "code",
      "execution_count": 10,
      "metadata": {
        "id": "UDVkzaaMVSss"
      },
      "outputs": [],
      "source": [
        "# 하노이, 재귀\n",
        "def hanoi(n, start, to, mid, answer):\n",
        "    if n == 1:\n",
        "        return answer.append([start, to])\n",
        "    hanoi(n-1, start, mid, to, answer)\n",
        "    answer.append([start, to])\n",
        "    hanoi(n-1, mid, to, start, answer)\n",
        "\n",
        "def solution(n):\n",
        "    answer = []\n",
        "    hanoi(n, 1, 3, 2, answer)\n",
        "    return answer"
      ]
    },
    {
      "cell_type": "code",
      "source": [
        "# 주식가격\n",
        "def solution(prices):\n",
        "    # 초기화\n",
        "    stack = []\n",
        "    answer = [0] * len(prices)\n",
        "\n",
        "    # 알고리즘\n",
        "    for i in range(len(prices)):\n",
        "        while stack and prices[stack[-1]] > prices[i]:\n",
        "            post = stack.pop()\n",
        "            answer[post] = i - post\n",
        "        stack.append(i)\n",
        "\n",
        "    for i in stack:\n",
        "        answer[i] = len(prices) - 1 - i\n",
        "\n",
        "    # 답안\n",
        "    return answer"
      ],
      "metadata": {
        "id": "n9kWdl_9VaW1"
      },
      "execution_count": null,
      "outputs": []
    },
    {
      "cell_type": "code",
      "source": [
        "# 선택정렬\n",
        "array = [7, 5, 9, 0, 3,1]\n",
        "for i in range(len(array)):\n",
        "  min_index = i\n",
        "  for j in range(i+1, len(array)):\n",
        "    if array[min_index] > array[j]:\n",
        "      min_index = j\n",
        "  array[i], array[min_index] = array[min_index], array[i]\n",
        "print(array)"
      ],
      "metadata": {
        "colab": {
          "base_uri": "https://localhost:8080/"
        },
        "id": "QfqYywHoj2eL",
        "outputId": "073b9295-62fb-4225-9369-98bbd353f5ce"
      },
      "execution_count": 16,
      "outputs": [
        {
          "output_type": "stream",
          "name": "stdout",
          "text": [
            "[0, 1, 3, 5, 7, 9]\n"
          ]
        }
      ]
    },
    {
      "cell_type": "code",
      "source": [
        "# 삽입정렬\n",
        "array = [7, 5, 9, 0, 3,1]\n",
        "for i in range(1, len(array)):\n",
        "  for j in range(i, 0, -1):\n",
        "    if array[j] < array[j - 1]:\n",
        "      array[j], array[j - 1] = array[j - 1], array[j]\n",
        "    else:\n",
        "      break\n",
        "print(array)"
      ],
      "metadata": {
        "colab": {
          "base_uri": "https://localhost:8080/"
        },
        "id": "3kKKylD5kZfi",
        "outputId": "64318c83-1348-48be-b2e0-0ba0cf66a12b"
      },
      "execution_count": 17,
      "outputs": [
        {
          "output_type": "stream",
          "name": "stdout",
          "text": [
            "[0, 1, 3, 5, 7, 9]\n"
          ]
        }
      ]
    },
    {
      "cell_type": "code",
      "source": [
        "# 거품정렬\n",
        "array = [7, 5, 9, 0, 3,1]\n",
        "for i in range(len(array) - 1, 0, -1):\n",
        "    for j in range(i):\n",
        "        if array[j] > array[j + 1]:\n",
        "            array[j], array[j + 1] = array[j + 1], array[j]\n",
        "print(array)"
      ],
      "metadata": {
        "colab": {
          "base_uri": "https://localhost:8080/"
        },
        "id": "6KxLXOT2llNi",
        "outputId": "a74eac6f-7ea5-4ba5-e8c5-85e3ed0aa996"
      },
      "execution_count": 18,
      "outputs": [
        {
          "output_type": "stream",
          "name": "stdout",
          "text": [
            "[0, 1, 3, 5, 7, 9]\n"
          ]
        }
      ]
    },
    {
      "cell_type": "code",
      "source": [
        "array = [7, 5, 9, 0, 3,1]\n",
        "def quick_sort(array, start, end):\n",
        "  # 종료구문\n",
        "  if start >= end:\n",
        "    return\n",
        "  # 초기화\n",
        "  pivot = start\n",
        "  left = start + 1\n",
        "  right = end\n",
        "\n",
        "  # 재귀\n",
        "  while left <= right:\n",
        "    while left <= end and array[left] <= array[pivot]:\n",
        "      left = left + 1\n",
        "    while right > start and array[right] >= array[pivot]:\n",
        "      right = right - 1\n",
        "    if left > right:\n",
        "      array[right], array[pivot] = array[pivot], array[right]\n",
        "    else:\n",
        "      array[left], array[right] = array[right], array[left]\n",
        "\n",
        "  # 좌/우를 나눠서 각각 정렬 수행\n",
        "  quick_sort(array, start, right - 1)\n",
        "  quick_sort(array, right+1, end)\n",
        "\n",
        "quick_sort(array, 0, len(array)-1)\n",
        "print(array)"
      ],
      "metadata": {
        "colab": {
          "base_uri": "https://localhost:8080/"
        },
        "id": "7faI16X6mVxS",
        "outputId": "81a60c6a-2923-45d4-ec86-07139bfd2221"
      },
      "execution_count": 19,
      "outputs": [
        {
          "output_type": "stream",
          "name": "stdout",
          "text": [
            "[0, 1, 3, 5, 7, 9]\n"
          ]
        }
      ]
    },
    {
      "cell_type": "markdown",
      "source": [
        "# 이진탐색"
      ],
      "metadata": {
        "id": "95fnY-Er5nKg"
      }
    },
    {
      "cell_type": "code",
      "source": [
        "array = [7, 5, 9, 0, 3,1]\n",
        "def binary_search(array, target, start, end):\n",
        "  if start > end:\n",
        "    return None\n",
        "  mid = (start + end) // 2\n",
        "  if array[mid] == target:\n",
        "    return mid\n",
        "  elif array[mid] > target:\n",
        "    return binary_search(array, target, start, mid - 1)\n",
        "  else:\n",
        "    return binary_search(array, target, mid + 1, end)\n",
        "\n",
        "result = binary_search(sorted(array), 5, 0, len(array)-1)\n",
        "print(sorted(array))\n",
        "if result == None:\n",
        "  print(\"값 없음\")\n",
        "else:\n",
        "  print(result+1)\n",
        ""
      ],
      "metadata": {
        "colab": {
          "base_uri": "https://localhost:8080/"
        },
        "id": "yGLRAesTweLZ",
        "outputId": "8fea07e9-570c-419e-8fdd-f88b1d7c0d08"
      },
      "execution_count": 31,
      "outputs": [
        {
          "output_type": "stream",
          "name": "stdout",
          "text": [
            "[0, 1, 3, 5, 7, 9]\n",
            "4\n"
          ]
        }
      ]
    },
    {
      "cell_type": "code",
      "source": [],
      "metadata": {
        "id": "v9rthNz158Jn"
      },
      "execution_count": null,
      "outputs": []
    }
  ]
}